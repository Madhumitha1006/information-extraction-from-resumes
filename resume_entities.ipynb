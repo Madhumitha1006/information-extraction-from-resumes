{
 "cells": [
  {
   "cell_type": "code",
   "execution_count": 1,
   "id": "cd909762",
   "metadata": {},
   "outputs": [],
   "source": [
    "import numpy as np\n",
    "import pandas as pd"
   ]
  },
  {
   "cell_type": "code",
   "execution_count": 2,
   "id": "282e8480",
   "metadata": {},
   "outputs": [
    {
     "data": {
      "text/html": [
       "<div>\n",
       "<style scoped>\n",
       "    .dataframe tbody tr th:only-of-type {\n",
       "        vertical-align: middle;\n",
       "    }\n",
       "\n",
       "    .dataframe tbody tr th {\n",
       "        vertical-align: top;\n",
       "    }\n",
       "\n",
       "    .dataframe thead th {\n",
       "        text-align: right;\n",
       "    }\n",
       "</style>\n",
       "<table border=\"1\" class=\"dataframe\">\n",
       "  <thead>\n",
       "    <tr style=\"text-align: right;\">\n",
       "      <th></th>\n",
       "      <th>content</th>\n",
       "      <th>annotation</th>\n",
       "      <th>extras</th>\n",
       "    </tr>\n",
       "  </thead>\n",
       "  <tbody>\n",
       "    <tr>\n",
       "      <th>0</th>\n",
       "      <td>Abhishek Jha\\nApplication Development Associat...</td>\n",
       "      <td>[{'label': ['Skills'], 'points': [{'start': 12...</td>\n",
       "      <td>NaN</td>\n",
       "    </tr>\n",
       "    <tr>\n",
       "      <th>1</th>\n",
       "      <td>Afreen Jamadar\\nActive member of IIIT Committe...</td>\n",
       "      <td>[{'label': ['Email Address'], 'points': [{'sta...</td>\n",
       "      <td>NaN</td>\n",
       "    </tr>\n",
       "    <tr>\n",
       "      <th>2</th>\n",
       "      <td>Akhil Yadav Polemaina\\nHyderabad, Telangana - ...</td>\n",
       "      <td>[{'label': ['Skills'], 'points': [{'start': 37...</td>\n",
       "      <td>NaN</td>\n",
       "    </tr>\n",
       "    <tr>\n",
       "      <th>3</th>\n",
       "      <td>Alok Khandai\\nOperational Analyst (SQL DBA) En...</td>\n",
       "      <td>[{'label': ['Skills'], 'points': [{'start': 80...</td>\n",
       "      <td>NaN</td>\n",
       "    </tr>\n",
       "    <tr>\n",
       "      <th>4</th>\n",
       "      <td>Ananya Chavan\\nlecturer - oracle tutorials\\n\\n...</td>\n",
       "      <td>[{'label': ['Degree'], 'points': [{'start': 20...</td>\n",
       "      <td>NaN</td>\n",
       "    </tr>\n",
       "  </tbody>\n",
       "</table>\n",
       "</div>"
      ],
      "text/plain": [
       "                                             content  \\\n",
       "0  Abhishek Jha\\nApplication Development Associat...   \n",
       "1  Afreen Jamadar\\nActive member of IIIT Committe...   \n",
       "2  Akhil Yadav Polemaina\\nHyderabad, Telangana - ...   \n",
       "3  Alok Khandai\\nOperational Analyst (SQL DBA) En...   \n",
       "4  Ananya Chavan\\nlecturer - oracle tutorials\\n\\n...   \n",
       "\n",
       "                                          annotation  extras  \n",
       "0  [{'label': ['Skills'], 'points': [{'start': 12...     NaN  \n",
       "1  [{'label': ['Email Address'], 'points': [{'sta...     NaN  \n",
       "2  [{'label': ['Skills'], 'points': [{'start': 37...     NaN  \n",
       "3  [{'label': ['Skills'], 'points': [{'start': 80...     NaN  \n",
       "4  [{'label': ['Degree'], 'points': [{'start': 20...     NaN  "
      ]
     },
     "execution_count": 2,
     "metadata": {},
     "output_type": "execute_result"
    }
   ],
   "source": [
    "df = pd.read_json(\"Entity Recognition in Resumes.json\", lines=True)\n",
    "df.head()"
   ]
  },
  {
   "cell_type": "code",
   "execution_count": 3,
   "id": "d820711c",
   "metadata": {},
   "outputs": [
    {
     "data": {
      "text/plain": [
       "\"Mahesh Vijay\\nBengaluru, Karnataka - Email me on Indeed: indeed.com/r/Mahesh-Vijay/a2584aabc9572c30\\n\\nOver 6.5 years of functional enriched experience in ERP in the Procurement to Pay domain. Was\\nassociated with Oracle India Pvt Ltd, Bangalore as Team lead - Supplier Data Management in\\ntheir Global Financial Information Centre (Global Shared Service Center) for Oracle's Business\\nfrom Sep 2007- Feb 2014.\\n\\nWilling to relocate: Anywhere\\n\\nWORK EXPERIENCE\\n\\nTeam lead - supplier data management\\n\\nOracle India -  Bangalore, Karnataka -\\n\\nMarch 2014 to December 2016\\n\\nManaging Partner of family business of Tours & Travels\\n\\nTeam Lead\\n\\nOracle India Pvt Ltd -\\n\\nOctober 2013 to February 2014\\n\\nSupplier Data Management\\n\\nLead Analyst -SME -Supplier Data Management\\n\\nOracle India Pvt Ltd -\\n\\nSeptember 2012 to October 2013\\n\\nSenior Analyst -Supplier Data Management\\n\\nOracle India Pvt Ltd -  Bengaluru, Karnataka -\\n\\nJanuary 2010 to September 2012\\n\\nAcademia\\n• Bachelors in Commerce (B.Com) from Vivekananda Degree College, Bangalore\\nUniversity(2007)\\n• Pre University from Vivekananda PU College, Bangalore(2004)\\n• Passed 10th STD from Angels High School, Bangalore(2002)\\nFunctional & Technical Expertise\\nFunctional\\n- Ensuring data quality in Purchasing Supplier management (PSM) registry and Trading\\nCommunity Architecture of the Oracle e-business suite bundle.\\n\\nhttps://www.indeed.com/r/Mahesh-Vijay/a2584aabc9572c30?isid=rex-download&ikw=download-top&co=IN\\n\\n\\n- Managing all projects and ensuring the completion of the same within timeframe. Projects\\nlike - Oracle Fusion Supplier Self Service, Supplier cleanup, migration of merger and acquisition\\nsuppliers, UAT\\n- Managing activities like synchronizing creation and updates of supplier records.\\n- Oracle Fusion - Related to Procurement modules -Fusion Supplier Portal\\n- Sound knowledge in the Oracle Financial applications domain that includes various cycles like\\nthe Expense Reporting, Accounts Payables, Accounts Receivables, and Tactical Purchasing.\\n- R12 User Acceptance Testing, writing test cases and author test reports which analyze the\\nreported defects.\\nTechnical\\n- Oracle Applications Releases: 12, 11.5, Oracle Applications Modules Purchasing, iProcurement\\n- Business Intelligence Reporting Tools: Oracle Discoverer & Accounting Software Tally 7.2\\nProjects & Accomplishments\\nOracle Master Data Management- Legacy Data Cleanup Project\\nRole:\\n• Global Country wise clean up initiative focusing on achieving a clean and accurate database\\n• Supplier Information retrieval based on information in Purchase orders\\nOracle Fusion UAT- Supplier Self Service\\nRole:\\n• Internal UAT-Part of upgrade team, testing all functionality and interfaces.\\n• Monitoring the new add on features in Fusion and old features assigned\\n\\n11i to R12 Migration- Manual UAT\\nRole:\\n• Testing for Supplier creations, Merges, Tax set ups, Withholding and TDS code, Bank details etc\\n• Monitoring the new add on features in R12 and old features assigned\\n\\nOracle Supplier Life Cycle Management (SLM) or Supplier Hub Project\\nRole:\\n• Internal UAT- testing all functionality and interfaces for creating a 360 degree view for each\\nand every supplier.\\n• Responsible for setting up suppliers' online, assisting requesters and suppliers to register a\\nsupplier and iSupplier access. Testing fast and flexible supplier searches that can be made into\\ntemplates resulting in quick report generation Create and test blended supplier records from\\nmultiple sources\\n\\nSKILLS\\n\\nBCP (6 years), Data Governance (6 years), Data Management (6 years), Oracle (6 years),\\nReporting Tools (6 years)\\n\\nADDITIONAL INFORMATION\\n\\nKey Skills\\n• Process Management & Improvement\\n• Operations & Team Management\\n• Data Governance & Automation\\n• Oracle E- Business Systems experience in Supplier Data/Vendor Data management\\n• BCP Policies & Procedures\\n\\n\\n\\n• Desk Manuals/Business Process & Navigation Documentation\\n• Business Ethics\\n• Professional Communication\\n• Reporting Tools & Microsoft Office Applications\""
      ]
     },
     "execution_count": 3,
     "metadata": {},
     "output_type": "execute_result"
    }
   ],
   "source": [
    "df['content'][41]"
   ]
  },
  {
   "cell_type": "code",
   "execution_count": 4,
   "id": "033e60f8",
   "metadata": {},
   "outputs": [
    {
     "data": {
      "text/plain": [
       "[{'label': ['Skills'],\n",
       "  'points': [{'start': 2110,\n",
       "    'end': 2403,\n",
       "    'text': 'SKILL SET • ASP.NET, C# • QA tools\\n\\n• Coding and modularization • Excellent communication skills\\n\\n• VB, VB.net, ASP • Technical specifications creation\\n\\n• HTML • System backups\\n\\n• Sql server 2005, Oracle • System upgrades\\n\\n• Java/C/C++ • Excellent problem-solving abilities\\n\\nNavas Najeer Koya 3'}]},\n",
       " {'label': ['Location'],\n",
       "  'points': [{'start': 2055, 'end': 2063, 'text': 'Mangalore'}]},\n",
       " {'label': ['Skills'],\n",
       "  'points': [{'start': 1895,\n",
       "    'end': 1946,\n",
       "    'text': 'C# (Less than 1 year), .NET, SQL Server, Css, Html5\\n'}]},\n",
       " {'label': ['Graduation Year'],\n",
       "  'points': [{'start': 1880, 'end': 1884, 'text': ' 2014'}]},\n",
       " {'label': ['Location'],\n",
       "  'points': [{'start': 1851, 'end': 1859, 'text': 'Mangalore'}]},\n",
       " {'label': ['Location'],\n",
       "  'points': [{'start': 1829, 'end': 1837, 'text': 'Mangalore'}]},\n",
       " {'label': ['Degree'],\n",
       "  'points': [{'start': 1794,\n",
       "    'end': 1825,\n",
       "    'text': 'Bachelor of Computer Application'}]},\n",
       " {'label': ['Graduation Year'],\n",
       "  'points': [{'start': 1056, 'end': 1060, 'text': ' 2014'}]},\n",
       " {'label': ['Companies worked at'],\n",
       "  'points': [{'start': 1031, 'end': 1037, 'text': 'Infosys'}]},\n",
       " {'label': ['Designation'],\n",
       "  'points': [{'start': 479, 'end': 492, 'text': 'Test Engineer\\n'}]},\n",
       " {'label': ['Companies worked at'],\n",
       "  'points': [{'start': 352, 'end': 358, 'text': 'Infosys'}]},\n",
       " {'label': ['Designation'],\n",
       "  'points': [{'start': 337, 'end': 350, 'text': 'Test Engineer\\n'}]},\n",
       " {'label': ['Graduation Year'],\n",
       "  'points': [{'start': 253, 'end': 257, 'text': ' 2014'}]},\n",
       " {'label': ['Companies worked at'],\n",
       "  'points': [{'start': 236, 'end': 242, 'text': 'Infosys'}]},\n",
       " {'label': ['Designation'],\n",
       "  'points': [{'start': 219, 'end': 233, 'text': 'System Engineer'}]},\n",
       " {'label': ['Location'],\n",
       "  'points': [{'start': 135, 'end': 143, 'text': 'Mangalore'}]},\n",
       " {'label': ['Location'],\n",
       "  'points': [{'start': 26, 'end': 34, 'text': 'Mangalore'}]},\n",
       " {'label': ['Designation'],\n",
       "  'points': [{'start': 11, 'end': 24, 'text': 'Test Engineer\\n'}]},\n",
       " {'label': ['Name'], 'points': [{'start': 0, 'end': 9, 'text': 'Navas Koya'}]}]"
      ]
     },
     "execution_count": 4,
     "metadata": {},
     "output_type": "execute_result"
    }
   ],
   "source": [
    "df['annotation'][46]"
   ]
  },
  {
   "cell_type": "code",
   "execution_count": 6,
   "id": "882cdaa2",
   "metadata": {},
   "outputs": [
    {
     "name": "stdout",
     "output_type": "stream",
     "text": [
      "{'Navas': 'B-Name', 'Koya': 'I-Name', 'Test': 'B-Designation', 'Engineer': 'I-Designation', 'Mangalore,': 'O', 'Karnataka': 'O', '-': 'O', 'Email': 'O', 'me': 'O', 'on': 'O', 'Indeed:': 'O', 'indeed.com/r/Navas-Koya/23c1e4e94779b465': 'O', 'Willing': 'O', 'to': 'O', 'relocate': 'O', 'to:': 'O', 'Bangalore,': 'O', 'Chennai,': 'O', 'Tamil': 'O', 'Nadu': 'O', 'WORK': 'O', 'EXPERIENCE': 'O', 'System': 'B-Designation', 'Infosys': 'B-Companies worked at', 'August': 'O', '2014': 'B-Graduation Year', 'Present': 'O', '.NET': 'O', 'application': 'O', 'Maintenance': 'O', 'and': 'I-Skills', 'do': 'O', 'the': 'O', 'code': 'O', 'changes': 'O', 'if': 'O', 'required': 'O', 'June': 'O', '2015': 'O', 'February': 'O', '2016': 'O', 'PrProject': 'O', '2:': 'O', 'Title:': 'O', 'RBS': 'O', 'W&G': 'O', 'Proving': 'O', 'testing.': 'O', 'Technology:': 'O', 'Manual': 'O', 'testing': 'O', 'Role:': 'O', 'Software': 'O', 'Domain:': 'O', 'Banking': 'O', 'Description:': 'O', 'Write': 'O', 'test': 'O', 'cases': 'O', '&': 'O', 'descriptions.': 'O', 'Review': 'O', 'entries.': 'O', 'Upload': 'O', 'map': 'O', 'documents': 'O', 'into': 'O', 'HP': 'O', 'QC.': 'O', 'Execute': 'O', 'operations': 'O', 'in': 'O', 'TPROD': 'O', 'mainframe.': 'O', 'result': 'O', 'QC': 'O', 'along': 'O', 'with': 'O', 'proof.': 'O', 'Roles': 'O', 'Responsibilities:': 'O', '•Prepared': 'O', 'Scenarios': 'O', 'Executed': 'O', 'Cases': 'O', '•Performed': 'O', 'functional,': 'O', 'Regression': 'O', 'testing,': 'O', 'Sanity': 'O', '•Reviewed': 'O', 'Reports': 'O', 'Preparing': 'O', 'Summary': 'O', 'Report.': 'O', '•Upload': 'O', '•Execute': 'O', 'Mainframe.': 'O', '•Defect': 'O', 'Track': 'O', 'Executive': 'O', 'Limited': 'O', 'May': 'O', 'https://www.indeed.com/r/Navas-Koya/23c1e4e94779b465?isid=rex-download&ikw=download-top&co=IN': 'O', 'Project': 'O', '1:': 'O', 'CAWP': 'O', '(Compliance': 'O', 'Automated': 'O', 'Work': 'O', 'Paper)': 'O', 'The': 'O', 'Admin': 'O', 'can': 'O', 'create': 'O', 'maintain': 'O', 'annual': 'O', 'plan,': 'O', 'users': 'O', 'only': 'O', 'view': 'O', 'add': 'O', 'details.': 'O', 'Testers': 'O', 'will': 'O', 'get': 'O', 'Business': 'O', 'Requirement': 'O', 'which': 'O', 'explains': 'O', 'flows': 'O', 'Functional': 'O', 'requirements': 'O', 'gives': 'O', 'full': 'O', 'detail': 'O', 'of': 'I-Degree', 'project.': 'O', 'EDUCATION': 'O', 'Bachelor': 'B-Degree', 'Computer': 'I-Degree', 'Applications': 'O', 'Mangalore': 'B-Location', 'University,': 'O', '2011': 'O', 'April': 'O', 'SKILLS': 'O', 'C#': 'B-Skills', '(Less': 'I-Skills', 'than': 'I-Skills', '1': 'I-Skills', 'year),': 'I-Skills', '.NET,': 'I-Skills', 'SQL': 'I-Skills', 'Server,': 'I-Skills', 'Css,': 'I-Skills', 'Html5': 'I-Skills', 'ADDITIONAL': 'O', 'INFORMATION': 'O', 'computer': 'O', 'application:': 'O', '74%': 'O', 'from': 'O', 'Milagres': 'O', 'College,': 'O', 'Kallianpur': 'O', 'under': 'O', 'Karnataka.': 'O', 'Najeer': 'I-Skills', '2': 'O', 'SKILL': 'B-Skills', 'SET': 'I-Skills', '•': 'I-Skills', 'ASP.NET,': 'I-Skills', 'QA': 'I-Skills', 'tools': 'I-Skills', 'Coding': 'I-Skills', 'modularization': 'I-Skills', 'Excellent': 'I-Skills', 'communication': 'I-Skills', 'skills': 'I-Skills', 'VB,': 'I-Skills', 'VB.net,': 'I-Skills', 'ASP': 'I-Skills', 'Technical': 'I-Skills', 'specifications': 'I-Skills', 'creation': 'I-Skills', 'HTML': 'I-Skills', 'backups': 'I-Skills', 'Sql': 'I-Skills', 'server': 'I-Skills', '2005,': 'I-Skills', 'Oracle': 'I-Skills', 'upgrades': 'I-Skills', 'Java/C/C++': 'I-Skills', 'problem-solving': 'I-Skills', 'abilities': 'I-Skills', '3': 'I-Skills', 'Application': 'I-Degree'}\n"
     ]
    }
   ],
   "source": [
    "def bio_encoding(resume_content, annotations):\n",
    "    \n",
    "    tokens = resume_content.split()\n",
    "    bio_labels_dict = {token:'O'for token in tokens}\n",
    "    \n",
    "    # Iterate through the annotations\n",
    "    for annotation in annotations:\n",
    "\n",
    "        label = annotation['label'][0]\n",
    "        points = annotation['points'][0]\n",
    "        \n",
    "        start = points['start']\n",
    "        end = points['end']\n",
    "        text=points['text']\n",
    "        \n",
    "        text_tokens = text.split()\n",
    "        \n",
    "        first_token=text_tokens[0]\n",
    "        bio_labels_dict[first_token]= 'B-' + label\n",
    "            \n",
    "            \n",
    "        for text_token in text_tokens[1:]:\n",
    "            bio_labels_dict[text_token]= 'I-' + label\n",
    "            \n",
    "    return bio_labels_dict\n",
    "\n",
    "resume_content = \"B.v.b college of engineering and technology\"\n",
    "annotations = [{'label': ['College Name'], 'points': [{'start':6, 'end': 13, 'text':'college'}]}]\n",
    "\n",
    "bio_labels_dict_ex= bio_encoding(df['content'][46],df['annotation'][46])\n",
    "\n",
    "print(bio_labels_dict_ex)"
   ]
  },
  {
   "cell_type": "code",
   "execution_count": 7,
   "id": "82a75532",
   "metadata": {},
   "outputs": [],
   "source": [
    "columns = ['sentence', 'token', 'tag']\n",
    "final_df = pd.DataFrame(columns=columns)"
   ]
  },
  {
   "cell_type": "code",
   "execution_count": 8,
   "id": "b4f2de59",
   "metadata": {},
   "outputs": [],
   "source": [
    "for index, row in df.iterrows():\n",
    "    if index==81 or index==167:\n",
    "        continue\n",
    "        \n",
    "    resume_content = df['content'][index]\n",
    "    annotations = df['annotation'][index]\n",
    "    \n",
    "    bio_labels_dict = bio_encoding(resume_content,annotations)\n",
    "    \n",
    "    prev=\"\"\n",
    "    for key,value in bio_labels_dict.items():\n",
    "        if value[0][0]=='I':\n",
    "            if value[0][2:]!=prev[2:]:\n",
    "                bio_labels_dict[key][0]='O'\n",
    "        prev=bio_labels_dict[key][0]\n",
    "        \n",
    "    for key, value in bio_labels_dict.items():\n",
    "        new_row = {'sentence': 'Sentence: '+str(index+1),'token': key, 'tag':value}\n",
    "        final_df = pd.concat([final_df, pd.DataFrame([new_row])], ignore_index=True)"
   ]
  },
  {
   "cell_type": "code",
   "execution_count": 9,
   "id": "4bccb3bc",
   "metadata": {},
   "outputs": [
    {
     "data": {
      "text/html": [
       "<div>\n",
       "<style scoped>\n",
       "    .dataframe tbody tr th:only-of-type {\n",
       "        vertical-align: middle;\n",
       "    }\n",
       "\n",
       "    .dataframe tbody tr th {\n",
       "        vertical-align: top;\n",
       "    }\n",
       "\n",
       "    .dataframe thead th {\n",
       "        text-align: right;\n",
       "    }\n",
       "</style>\n",
       "<table border=\"1\" class=\"dataframe\">\n",
       "  <thead>\n",
       "    <tr style=\"text-align: right;\">\n",
       "      <th></th>\n",
       "      <th>sentence</th>\n",
       "      <th>token</th>\n",
       "      <th>tag</th>\n",
       "    </tr>\n",
       "  </thead>\n",
       "  <tbody>\n",
       "    <tr>\n",
       "      <th>0</th>\n",
       "      <td>Sentence: 1</td>\n",
       "      <td>Abhishek</td>\n",
       "      <td>B-Name</td>\n",
       "    </tr>\n",
       "    <tr>\n",
       "      <th>1</th>\n",
       "      <td>Sentence: 1</td>\n",
       "      <td>Jha</td>\n",
       "      <td>I-Name</td>\n",
       "    </tr>\n",
       "    <tr>\n",
       "      <th>2</th>\n",
       "      <td>Sentence: 1</td>\n",
       "      <td>Application</td>\n",
       "      <td>B-Designation</td>\n",
       "    </tr>\n",
       "    <tr>\n",
       "      <th>3</th>\n",
       "      <td>Sentence: 1</td>\n",
       "      <td>Development</td>\n",
       "      <td>I-Designation</td>\n",
       "    </tr>\n",
       "    <tr>\n",
       "      <th>4</th>\n",
       "      <td>Sentence: 1</td>\n",
       "      <td>Associate</td>\n",
       "      <td>I-Designation</td>\n",
       "    </tr>\n",
       "    <tr>\n",
       "      <th>...</th>\n",
       "      <td>...</td>\n",
       "      <td>...</td>\n",
       "      <td>...</td>\n",
       "    </tr>\n",
       "    <tr>\n",
       "      <th>60746</th>\n",
       "      <td>Sentence: 220</td>\n",
       "      <td>false</td>\n",
       "      <td>O</td>\n",
       "    </tr>\n",
       "    <tr>\n",
       "      <th>60747</th>\n",
       "      <td>Sentence: 220</td>\n",
       "      <td>positive,</td>\n",
       "      <td>O</td>\n",
       "    </tr>\n",
       "    <tr>\n",
       "      <th>60748</th>\n",
       "      <td>Sentence: 220</td>\n",
       "      <td>fine</td>\n",
       "      <td>O</td>\n",
       "    </tr>\n",
       "    <tr>\n",
       "      <th>60749</th>\n",
       "      <td>Sentence: 220</td>\n",
       "      <td>tuning</td>\n",
       "      <td>O</td>\n",
       "    </tr>\n",
       "    <tr>\n",
       "      <th>60750</th>\n",
       "      <td>Sentence: 220</td>\n",
       "      <td>escalating</td>\n",
       "      <td>O</td>\n",
       "    </tr>\n",
       "  </tbody>\n",
       "</table>\n",
       "<p>60751 rows × 3 columns</p>\n",
       "</div>"
      ],
      "text/plain": [
       "            sentence        token            tag\n",
       "0        Sentence: 1     Abhishek         B-Name\n",
       "1        Sentence: 1          Jha         I-Name\n",
       "2        Sentence: 1  Application  B-Designation\n",
       "3        Sentence: 1  Development  I-Designation\n",
       "4        Sentence: 1    Associate  I-Designation\n",
       "...              ...          ...            ...\n",
       "60746  Sentence: 220        false              O\n",
       "60747  Sentence: 220    positive,              O\n",
       "60748  Sentence: 220         fine              O\n",
       "60749  Sentence: 220       tuning              O\n",
       "60750  Sentence: 220   escalating              O\n",
       "\n",
       "[60751 rows x 3 columns]"
      ]
     },
     "execution_count": 9,
     "metadata": {},
     "output_type": "execute_result"
    }
   ],
   "source": [
    "final_df"
   ]
  },
  {
   "cell_type": "code",
   "execution_count": 10,
   "id": "e3db0f52",
   "metadata": {},
   "outputs": [
    {
     "name": "stdout",
     "output_type": "stream",
     "text": [
      "Unique Tags:\n",
      "['B-Name' 'I-Name' 'B-Designation' 'I-Designation' 'I-Skills'\n",
      " 'B-Companies worked at' 'O' 'B-Email Address' 'I-Email Address'\n",
      " 'B-Graduation Year' 'B-College Name' 'I-College Name' 'B-Skills'\n",
      " 'B-Location' 'I-Degree' 'B-Degree' 'I-Companies worked at'\n",
      " 'B-Years of Experience' 'I-Years of Experience' 'I-Location' 'I-UNKNOWN'\n",
      " 'B-UNKNOWN']\n",
      "\n",
      "Value Counts:\n",
      "O                        51143\n",
      "I-Skills                  5140\n",
      "I-College Name             716\n",
      "I-Degree                   641\n",
      "I-Designation              442\n",
      "B-Skills                   297\n",
      "B-College Name             290\n",
      "B-Degree                   279\n",
      "B-Designation              244\n",
      "I-Name                     228\n",
      "B-Name                     215\n",
      "B-Companies worked at      212\n",
      "I-Companies worked at      200\n",
      "B-Location                 199\n",
      "B-Email Address            189\n",
      "B-Graduation Year          156\n",
      "I-Email Address             75\n",
      "I-Years of Experience       35\n",
      "B-Years of Experience       32\n",
      "I-Location                  14\n",
      "I-UNKNOWN                    3\n",
      "B-UNKNOWN                    1\n",
      "Name: tag, dtype: int64\n"
     ]
    }
   ],
   "source": [
    "# Find unique values in the \"tag\" column\n",
    "unique_tags = final_df['tag'].unique()\n",
    "\n",
    "# Get value counts of each unique tag\n",
    "tag_value_counts = final_df['tag'].value_counts()\n",
    "\n",
    "# Print the unique values and their counts\n",
    "print(\"Unique Tags:\")\n",
    "print(unique_tags)\n",
    "print(\"\\nValue Counts:\")\n",
    "print(tag_value_counts)"
   ]
  },
  {
   "cell_type": "code",
   "execution_count": 11,
   "id": "a2dd015d",
   "metadata": {},
   "outputs": [
    {
     "name": "stdout",
     "output_type": "stream",
     "text": [
      "Maximum value of sentence counts: 1149\n",
      "Minimum value of sentence counts: 24\n"
     ]
    }
   ],
   "source": [
    "# Calculate the value counts for the \"sentence\" column\n",
    "sentence_counts = final_df['sentence'].value_counts()\n",
    "\n",
    "# Find the maximum value of the value counts\n",
    "max_count = sentence_counts.max()\n",
    "min_count = sentence_counts.min()\n",
    "\n",
    "# Print the maximum value\n",
    "print(\"Maximum value of sentence counts:\", max_count)\n",
    "print(\"Minimum value of sentence counts:\", min_count)"
   ]
  },
  {
   "cell_type": "code",
   "execution_count": null,
   "id": "5e188b72",
   "metadata": {},
   "outputs": [],
   "source": [
    "final_df.to_csv('resume_entities.csv', index=False)"
   ]
  }
 ],
 "metadata": {
  "kernelspec": {
   "display_name": "Python 3 (ipykernel)",
   "language": "python",
   "name": "python3"
  },
  "language_info": {
   "codemirror_mode": {
    "name": "ipython",
    "version": 3
   },
   "file_extension": ".py",
   "mimetype": "text/x-python",
   "name": "python",
   "nbconvert_exporter": "python",
   "pygments_lexer": "ipython3",
   "version": "3.11.4"
  }
 },
 "nbformat": 4,
 "nbformat_minor": 5
}
